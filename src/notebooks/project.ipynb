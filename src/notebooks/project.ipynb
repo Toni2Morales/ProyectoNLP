{
 "cells": [
  {
   "attachments": {},
   "cell_type": "markdown",
   "metadata": {},
   "source": [
    "# **Proyecto de NLP, Spark y Redes Neuronales con Python**"
   ]
  },
  {
   "attachments": {},
   "cell_type": "markdown",
   "metadata": {},
   "source": [
    "-------"
   ]
  },
  {
   "attachments": {},
   "cell_type": "markdown",
   "metadata": {},
   "source": [
    "## Importación de librerías, inicio de sesión en Spark y lectura de los datos."
   ]
  },
  {
   "cell_type": "code",
   "execution_count": 78,
   "metadata": {},
   "outputs": [],
   "source": [
    "import pyspark\n",
    "from pyspark.sql import SparkSession\n",
    "from pyspark.sql.functions import *\n",
    "from pyspark.sql.types import *\n",
    "from pyspark.ml.feature import StopWordsRemover, Tokenizer, CountVectorizer, NGram\n",
    "from nltk.corpus import stopwords\n",
    "import findspark\n",
    "import seaborn as sns"
   ]
  },
  {
   "cell_type": "code",
   "execution_count": 5,
   "metadata": {},
   "outputs": [],
   "source": [
    "findspark.init()\n",
    "spark = SparkSession.builder.appName(\"ProyectoNLPSpark\").getOrCreate()\n"
   ]
  },
  {
   "cell_type": "code",
   "execution_count": 22,
   "metadata": {},
   "outputs": [],
   "source": [
    "data = spark.read.csv('../data/ruddit_comments_score.csv', header=True, inferSchema=True, sep = \",\", multiLine=True)\n",
    "data = data.withColumnRenamed(\"comment_id\", \"ID\").withColumnRenamed(\"body\", \"Comentario\").withColumnRenamed(\"score\", \"Puntuacion\")"
   ]
  },
  {
   "attachments": {},
   "cell_type": "markdown",
   "metadata": {},
   "source": [
    "> ##### Estos son los datos con los que vamos a trabajar"
   ]
  },
  {
   "cell_type": "code",
   "execution_count": 23,
   "metadata": {},
   "outputs": [
    {
     "name": "stdout",
     "output_type": "stream",
     "text": [
      "+--------------------+--------------------+----------+\n",
      "|                  ID|          Comentario|Puntuacion|\n",
      "+--------------------+--------------------+----------+\n",
      "|             cza1q49|> The difference ...|    -0.083|\n",
      "|             cza1wdh|\"The myth is that...|    -0.022|\n",
      "|             cza23qx|           [deleted]|     0.167|\n",
      "|             cza2bw8|The assertion is ...|    -0.146|\n",
      "|             cza2iji|You said in the O...|    -0.083|\n",
      "|             cza2jj3|\">Men and women a...|      null|\n",
      "|Edit: Changed 70 ...|              -0.042|      null|\n",
      "|             cza31e2|> All the wage ga...|    -0.021|\n",
      "|             cza321d|           [deleted]|    -0.021|\n",
      "|             cza336e|           [deleted]|     0.208|\n",
      "|             cza34dq|           [deleted]|    -0.191|\n",
      "|             cza3500|           [deleted]|    -0.229|\n",
      "|             cza37ue|No, the point is ...|    -0.174|\n",
      "|             cza3802|           [deleted]|     0.021|\n",
      "|             cza392y|So women are paid...|    -0.229|\n",
      "|             cza3avu|           [deleted]|    -0.167|\n",
      "|             cza3cmh|           [deleted]|     0.188|\n",
      "|             cza3m1b|But obviously tha...|       0.0|\n",
      "|             cza3r5u|\"I think that Hol...|     0.098|\n",
      "|             cza3tqm|           [deleted]|    -0.064|\n",
      "+--------------------+--------------------+----------+\n",
      "only showing top 20 rows\n",
      "\n"
     ]
    }
   ],
   "source": [
    "data.show()"
   ]
  },
  {
   "cell_type": "code",
   "execution_count": 24,
   "metadata": {},
   "outputs": [
    {
     "name": "stdout",
     "output_type": "stream",
     "text": [
      "root\n",
      " |-- ID: string (nullable = true)\n",
      " |-- Comentario: string (nullable = true)\n",
      " |-- Puntuacion: string (nullable = true)\n",
      "\n"
     ]
    }
   ],
   "source": [
    "data.printSchema()"
   ]
  },
  {
   "attachments": {},
   "cell_type": "markdown",
   "metadata": {},
   "source": [
    "##### Limpieza y transformación y análisis de los datos"
   ]
  },
  {
   "cell_type": "code",
   "execution_count": 28,
   "metadata": {},
   "outputs": [
    {
     "name": "stdout",
     "output_type": "stream",
     "text": [
      "root\n",
      " |-- ID: string (nullable = true)\n",
      " |-- Comentario: string (nullable = true)\n",
      " |-- Puntuacion: float (nullable = true)\n",
      "\n"
     ]
    }
   ],
   "source": [
    "data = data.withColumn(\"Puntuacion\", data[\"Puntuacion\"].cast(\"float\"))\n",
    "data.printSchema()"
   ]
  },
  {
   "cell_type": "code",
   "execution_count": 31,
   "metadata": {},
   "outputs": [
    {
     "name": "stdout",
     "output_type": "stream",
     "text": [
      "+-------+--------------------+----------+\n",
      "|     ID|          Comentario|Puntuacion|\n",
      "+-------+--------------------+----------+\n",
      "|cza1q49|> The difference ...|    -0.083|\n",
      "|cza1wdh|\"The myth is that...|    -0.022|\n",
      "|cza2bw8|The assertion is ...|    -0.146|\n",
      "|cza2iji|You said in the O...|    -0.083|\n",
      "|cza31e2|> All the wage ga...|    -0.021|\n",
      "|cza37ue|No, the point is ...|    -0.174|\n",
      "|cza392y|So women are paid...|    -0.229|\n",
      "|cza3m1b|But obviously tha...|       0.0|\n",
      "|cza3r5u|\"I think that Hol...|     0.098|\n",
      "|cza47sd|\"> I don't think ...|    -0.083|\n",
      "|cza47xu|I don't think the...|    -0.062|\n",
      "|cza4d2a|> Women are a who...|    -0.062|\n",
      "|cza4gsv|\"The gist of my p...|    -0.021|\n",
      "|cza4ldq|Biological differ...|    -0.083|\n",
      "|cza5maz|> It's the differ...|    -0.188|\n",
      "|cza6q74|>The fact of the ...|     0.083|\n",
      "|cza6wrd|Well, if your wif...|    -0.104|\n",
      "|cza76eq|Women have not sp...|     0.188|\n",
      "|cza79u4|Doesn't it also m...|     0.175|\n",
      "|cza7gpu|So you do believe...|       0.0|\n",
      "+-------+--------------------+----------+\n",
      "only showing top 20 rows\n",
      "\n"
     ]
    }
   ],
   "source": [
    "data = data.dropna()\n",
    "data = data.filter(data[\"Comentario\"] != \"[deleted]\")\n",
    "data.show()"
   ]
  },
  {
   "cell_type": "code",
   "execution_count": 32,
   "metadata": {},
   "outputs": [
    {
     "data": {
      "text/plain": [
       "'\"The myth is that the \"\"gap\"\" is entirely based on the sex of the  person. \"'"
      ]
     },
     "execution_count": 32,
     "metadata": {},
     "output_type": "execute_result"
    }
   ],
   "source": [
    "data.collect()[1][1]"
   ]
  },
  {
   "cell_type": "code",
   "execution_count": 35,
   "metadata": {},
   "outputs": [
    {
     "name": "stdout",
     "output_type": "stream",
     "text": [
      "+-------+-------------------------------------------------------------------------------------------------------------------------------------------------------------------------------------------------------------------------------------------------------------------------------------------------------------------------------------------------------------------------------------------------------------------------------------------------------------------------------------------------------------------------------------------------------------------------------------------------------------------------------------------------------------------------------------------------------------+---------------------+\n",
      "|_1     |_2                                                                                                                                                                                                                                                                                                                                                                                                                                                                                                                                                                                                                                                                                                           |_3                   |\n",
      "+-------+-------------------------------------------------------------------------------------------------------------------------------------------------------------------------------------------------------------------------------------------------------------------------------------------------------------------------------------------------------------------------------------------------------------------------------------------------------------------------------------------------------------------------------------------------------------------------------------------------------------------------------------------------------------------------------------------------------------+---------------------+\n",
      "|cza1q49|The difference in average earnings between men and women can be explained by taking into account relevant factors.So it isn't a myth, you just feel that you can explain it                                                                                                                                                                                                                                                                                                                                                                                                                                                                                                                                  |-0.08299999684095383 |\n",
      "|cza1wdh|The myth is that the \"gap\" is entirely based on the sex of the  person                                                                                                                                                                                                                                                                                                                                                                                                                                                                                                                                                                                                                                       |-0.02199999988079071 |\n",
      "|cza2bw8|The assertion is that women get paid less for the *same* jobs, and that they get paid less *because* they are women                                                                                                                                                                                                                                                                                                                                                                                                                                                                                                                                                                                          |-0.1459999978542328  |\n",
      "|cza2iji|You said in the OP that's not what they're measuring. They're measuring aggregate. As entertainers, women make less. Isn't that what JLaw was complaining about?                                                                                                                                                                                                                                                                                                                                                                                                                                                                                                                                             |-0.08299999684095383 |\n",
      "|cza31e2|All the wage gap is, is an average of total men's pay vs total women's pay. If you believe that's all it is, then sure.So you admit it exists?>When people refer to the pay gap, that ^ is what they are referring to most of the time.I'd say most of the time people think they're talking about discrimination, which is only true if they actually say it's about discrimination.This is essentially critics that are assuming they are saying something other than what they are saying                                                                                                                                                                                                                 |-0.020999999716877937|\n",
      "|cza37ue|No, the point is they aren't talking about discrimination here                                                                                                                                                                                                                                                                                                                                                                                                                                                                                                                                                                                                                                               |-0.17399999499320984 |\n",
      "|cza392y|So women are paid less for the same job?                                                                                                                                                                                                                                                                                                                                                                                                                                                                                                                                                                                                                                                                     |-0.2290000021457672  |\n",
      "|cza3m1b|But obviously that doesn't make sense, does it? That women just don't want to earn more money. That conflicts with what we know about humankind. People, men and women both, generally do want to make money and generally aren't okay with being given less than other people are given. Women are a whole aren't just less interested in money than men are. Something must be going on                                                                                                                                                                                                                                                                                                                    |0.0                  |\n",
      "|cza3r5u|I think that Hollywood and professional sports are a big exception here, because salaries in those two industries have virtually no cap (and often aren't tied to the quality of work or quantity of work at all - they're about subjective \"star power\")                                                                                                                                                                                                                                                                                                                                                                                                                                                    |0.09799999743700027  |\n",
      "|cza47sd|I don't think many people say this is the case though. I think this is a misconception on the other side, not something feminists have said.President Obama and Hilary Clinton say this *all* the time - every time they mention the discrepancy in earnings, it is *always* \"women deserve equal pay for equal work\"                                                                                                                                                                                                                                                                                                                                                                                        |-0.08299999684095383 |\n",
      "|cza47xu|I don't think they're any different. They are the truest form of perceived value and scarcity of skill. It's the difference between the WNBA and NBA. There are many factors that could keep wages low for a woman. For instance, my wife took maternity leave for 6 weeks and her boss would hound her about missing our son or what her future plans were with our son. Her boss never asked if I were going to take time off, etc. the supposition was my wife was going to quit. My wife chose not to and after a year her boss finally let up. But if my wife did quit, somehow then that would be used to say WOMEN keep wages low themselves ignoring that women are often the go to for child rearing|-0.06199999898672104 |\n",
      "|cza4d2a|Women are a whole aren't just less interested in money than men are.Source?Mine is only anecdotal, but in my experience, factors *other than money* - schedules, flexibility, time off, work condition, work enjoyability, etc. - are much more important to women than they are to men                                                                                                                                                                                                                                                                                                                                                                                                                      |-0.06199999898672104 |\n",
      "|cza4gsv|The gist of my post was \"does it make sense to you? It conflicts with what we think/know of humankind.\" So no source for that train of thought                                                                                                                                                                                                                                                                                                                                                                                                                                                                                                                                                               |-0.020999999716877937|\n",
      "|cza4ldq|Biological differences cannot explain the trends we've seen in CS. Until about 1985, female enrollment in CS tracked up alongside other technical fields. Then it suddenly reversed and dropped dramatically. If the difference is biology, then what is going on here? Either there has been a dramatic change in women's biology since 1985 or there has been a dramatic change in CS (but not other technical fields) since 1985 that has not matched women's biology. Both of those are really suspect ideas, IMO                                                                                                                                                                                        |-0.08299999684095383 |\n",
      "|cza5maz|It's the difference between the WNBA and NBA.I'm not saying this isn't another can of worms entirely, but I've heard that this is primarily because the skill level of the players is not the same, the games are less exciting, and the stakes are lower. That feeds back on itself                                                                                                                                                                                                                                                                                                                                                                                                                         |-0.18799999356269836 |\n",
      "|cza6q74|The fact of the matter is, unless you want to strip young women of agency, and force them into high paying fields, and restrict them from having a family, there really is nothing that can be done about this difference in average earnings. Mainly, because it isn't a problem. There is no discrimination involved.That isn't true. There is another way to reduce the differnce. Instead of stripping the agency of young women away, you could strip the agency of young men away. You could force them into low paying fields, and force them to take extra time off work whenever a female coworker has a kid                                                                                        |0.08299999684095383  |\n",
      "|cza6wrd|Well, if your wife quit in order to be a full time mother, doesn't that exactly mean that she chose to make less and therefore bring down the aggregate wage of all women? You have repeated the fact that women are generally the go to for child rearing but I don't see how that is relevant. You are free to quit your job and be a stay at home dad and let your wife continue her career. There is no inherent reason women should continue to be the primary caregivers and I don't see why any parent should be given special consideration by an employer and paid more or offered promotions just because they had kids and chose to spend less effort and time on work                            |-0.10400000214576721 |\n",
      "|cza76eq|Women have not spent years being told that their value as human beings is tied to the money they bring in. It would honestly surprise me a lot if women cared as much about pay as men do                                                                                                                                                                                                                                                                                                                                                                                                                                                                                                                    |0.18799999356269836  |\n",
      "|cza79u4|Doesn't it also mean the husband choose for his wife to earn less? If a husband and wife want a stay at home parent and decide together in mutual agreement for the wife to quit her job, then the choice for the woman to earn less rests equally on both man and woman in that situation. So we can't just say it's all women making these choices; men contribute to the choices as well                                                                                                                                                                                                                                                                                                                  |0.17499999701976776  |\n",
      "|cza7gpu|So you do believe socialization plays a huge role in people's choices, and you do acknowledge that in the past women weren't socialized to be as career focused as men, so it seems to me like  you'd understand how the explanations of why the wage gap exists are not justifications and that it stems from outdated gender roles conditioning that should be eradicated                                                                                                                                                                                                                                                                                                                                  |0.0                  |\n",
      "+-------+-------------------------------------------------------------------------------------------------------------------------------------------------------------------------------------------------------------------------------------------------------------------------------------------------------------------------------------------------------------------------------------------------------------------------------------------------------------------------------------------------------------------------------------------------------------------------------------------------------------------------------------------------------------------------------------------------------------+---------------------+\n",
      "only showing top 20 rows\n",
      "\n"
     ]
    }
   ],
   "source": [
    "data = data.rdd.map(lambda x: (x[0],x[1][1:] if (x[1][0] == '\"') else x[1],x[2])).toDF()\n",
    "data = data.rdd.map(lambda x: (x[0],x[1][:-1] if (x[1][-1] == '\"') else x[1],x[2])).toDF()\n",
    "data = data.rdd.map(lambda x: (x[0],x[1][1:] if (x[1][0] == '>') else x[1],x[2])).toDF()\n",
    "data = data.rdd.map(lambda x: (x[0],x[1][1:] if (x[1][0] == ' ') else x[1],x[2])).toDF()\n",
    "data = data.rdd.map(lambda x: (x[0],x[1][:-1] if (x[1][-1] == ' ') else x[1],x[2])).toDF()\n",
    "data = data.rdd.map(lambda x: (x[0],x[1][:-1] if (x[1][-1] == '.') else x[1],x[2])).toDF()\n",
    "data = data.rdd.map(lambda x: (x[0],x[1].replace('\"\"', '\"'),x[2])).toDF()\n",
    "data = data.rdd.map(lambda x: (x[0],x[1].replace('\\n', ''),x[2])).toDF()\n",
    "data = data.rdd.map(lambda x: (x[0],x[1].replace('\\t', ''),x[2])).toDF()\n",
    "data.show(truncate = False)"
   ]
  },
  {
   "cell_type": "code",
   "execution_count": 36,
   "metadata": {},
   "outputs": [
    {
     "data": {
      "text/plain": [
       "'The myth is that the \"gap\" is entirely based on the sex of the  person'"
      ]
     },
     "execution_count": 36,
     "metadata": {},
     "output_type": "execute_result"
    }
   ],
   "source": [
    "data.collect()[1][1]"
   ]
  },
  {
   "cell_type": "code",
   "execution_count": 37,
   "metadata": {},
   "outputs": [],
   "source": [
    "data = data.withColumnRenamed(\"_1\", \"ID\").withColumnRenamed(\"_2\", \"Comentario\").withColumnRenamed(\"_3\", \"Puntuacion\")"
   ]
  },
  {
   "cell_type": "code",
   "execution_count": 38,
   "metadata": {},
   "outputs": [
    {
     "data": {
      "text/plain": [
       "5422"
      ]
     },
     "execution_count": 38,
     "metadata": {},
     "output_type": "execute_result"
    }
   ],
   "source": [
    "data.count()"
   ]
  },
  {
   "cell_type": "code",
   "execution_count": 43,
   "metadata": {},
   "outputs": [],
   "source": [
    "data = data.withColumn(\"LongitudLetras\", length(data[\"Comentario\"]))"
   ]
  },
  {
   "cell_type": "code",
   "execution_count": 44,
   "metadata": {},
   "outputs": [
    {
     "data": {
      "text/plain": [
       "['i', 'me', 'my', 'myself', 'we', 'our', 'ours', 'ourselves', 'you', \"you're\"]"
      ]
     },
     "execution_count": 44,
     "metadata": {},
     "output_type": "execute_result"
    }
   ],
   "source": [
    "stopwords.words('english')[:10]"
   ]
  },
  {
   "cell_type": "code",
   "execution_count": 45,
   "metadata": {},
   "outputs": [],
   "source": [
    "data = Tokenizer(inputCol=\"Comentario\", outputCol=\"ComenToken\").transform(data).drop(\"Comentario\")"
   ]
  },
  {
   "cell_type": "code",
   "execution_count": 46,
   "metadata": {},
   "outputs": [],
   "source": [
    "data = StopWordsRemover(stopWords=stopwords.words('english'), inputCol=\"ComenToken\", outputCol=\"ComenTokenLimpio\").transform(data).drop(\"ComenToken\")"
   ]
  },
  {
   "cell_type": "code",
   "execution_count": 47,
   "metadata": {},
   "outputs": [],
   "source": [
    "data = CountVectorizer(inputCol=\"ComenTokenLimpio\", outputCol=\"ConteoPalabras\").fit(data).transform(data)"
   ]
  },
  {
   "cell_type": "code",
   "execution_count": 48,
   "metadata": {},
   "outputs": [
    {
     "name": "stdout",
     "output_type": "stream",
     "text": [
      "+-------+--------------------+--------------+--------------------+--------------------+\n",
      "|     ID|          Puntuacion|LongitudLetras|    ComenTokenLimpio|      ConteoPalabras|\n",
      "+-------+--------------------+--------------+--------------------+--------------------+\n",
      "|cza1q49|-0.08299999684095383|           171|[difference, aver...|(23213,[36,50,68,...|\n",
      "|cza1wdh|-0.02199999988079071|            70|[myth, \"gap\", ent...|(23213,[0,33,59,1...|\n",
      "|cza2bw8| -0.1459999978542328|           115|[assertion, women...|(23213,[4,36,56,2...|\n",
      "|cza2iji|-0.08299999684095383|           160|[said, op, that's...|(23213,[10,25,36,...|\n",
      "|cza31e2|-0.02099999971687...|           476|[wage, gap, is,, ...|(23213,[1,5,12,25...|\n",
      "|cza37ue|-0.17399999499320984|            62|[no,, point, talk...|(23213,[61,167,31...|\n",
      "|cza392y| -0.2290000021457672|            40|[women, paid, les...|(23213,[36,56,274...|\n",
      "|cza3m1b|                 0.0|           377|[obviously, make,...|(23213,[1,8,10,11...|\n",
      "|cza3r5u| 0.09799999743700027|           249|[think, hollywood...|(23213,[5,38,40,7...|\n",
      "|cza47sd|-0.08299999684095383|           309|[think, many, peo...|(23213,[1,5,12,26...|\n",
      "|cza47xu|-0.06199999898672104|           685|[think, they're, ...|(23213,[3,5,12,14...|\n",
      "|cza4d2a|-0.06199999898672104|           279|[women, whole, le...|(23213,[12,20,36,...|\n",
      "|cza4gsv|-0.02099999971687...|           142|[gist, post, \"doe...|(23213,[10,129,14...|\n",
      "|cza4ldq|-0.08299999684095383|           501|[biological, diff...|(23213,[13,22,93,...|\n",
      "|cza5maz|-0.18799999356269836|           276|[difference, wnba...|(23213,[54,56,66,...|\n",
      "|cza6q74| 0.08299999684095383|           597|[fact, matter, is...|(23213,[11,12,13,...|\n",
      "|cza6wrd|-0.10400000214576721|           657|[well,, wife, qui...|(23213,[10,12,18,...|\n",
      "|cza76eq| 0.18799999356269836|           185|[women, spent, ye...|(23213,[3,20,36,3...|\n",
      "|cza79u4| 0.17499999701976776|           379|[also, mean, husb...|(23213,[11,16,26,...|\n",
      "|cza7gpu|                 0.0|           363|[believe, sociali...|(23213,[0,2,36,64...|\n",
      "+-------+--------------------+--------------+--------------------+--------------------+\n",
      "only showing top 20 rows\n",
      "\n"
     ]
    }
   ],
   "source": [
    "data.show()"
   ]
  },
  {
   "cell_type": "code",
   "execution_count": 77,
   "metadata": {},
   "outputs": [
    {
     "name": "stdout",
     "output_type": "stream",
     "text": [
      "+------------------+-------------------+\n",
      "|   max(Puntuacion)|    min(Puntuacion)|\n",
      "+------------------+-------------------+\n",
      "|0.9789999723434448|-0.8889999985694885|\n",
      "+------------------+-------------------+\n",
      "\n"
     ]
    }
   ],
   "source": [
    "data.select([max(data[\"Puntuacion\"]), min(data[\"Puntuacion\"])]).show()"
   ]
  },
  {
   "cell_type": "code",
   "execution_count": 61,
   "metadata": {},
   "outputs": [
    {
     "name": "stdout",
     "output_type": "stream",
     "text": [
      "+-------------------+-------------------+\n",
      "|max(LongitudLetras)|min(LongitudLetras)|\n",
      "+-------------------+-------------------+\n",
      "|                913|                  9|\n",
      "+-------------------+-------------------+\n",
      "\n"
     ]
    }
   ],
   "source": [
    "data.select([max(data[\"LongitudLetras\"]), min(data[\"LongitudLetras\"])]).show()"
   ]
  },
  {
   "cell_type": "code",
   "execution_count": 80,
   "metadata": {},
   "outputs": [
    {
     "name": "stdout",
     "output_type": "stream",
     "text": [
      "+--------------------+\n",
      "|      ConteoPalabras|\n",
      "+--------------------+\n",
      "|(23213,[36,50,68,...|\n",
      "|(23213,[0,33,59,1...|\n",
      "|(23213,[4,36,56,2...|\n",
      "|(23213,[10,25,36,...|\n",
      "|(23213,[1,5,12,25...|\n",
      "|(23213,[61,167,31...|\n",
      "|(23213,[36,56,274...|\n",
      "|(23213,[1,8,10,11...|\n",
      "|(23213,[5,38,40,7...|\n",
      "|(23213,[1,5,12,26...|\n",
      "|(23213,[3,5,12,14...|\n",
      "|(23213,[12,20,36,...|\n",
      "|(23213,[10,129,14...|\n",
      "|(23213,[13,22,93,...|\n",
      "|(23213,[54,56,66,...|\n",
      "|(23213,[11,12,13,...|\n",
      "|(23213,[10,12,18,...|\n",
      "|(23213,[3,20,36,3...|\n",
      "|(23213,[11,16,26,...|\n",
      "|(23213,[0,2,36,64...|\n",
      "+--------------------+\n",
      "only showing top 20 rows\n",
      "\n"
     ]
    }
   ],
   "source": [
    "data.select(\"ConteoPalabras\").show()"
   ]
  },
  {
   "cell_type": "code",
   "execution_count": null,
   "metadata": {},
   "outputs": [],
   "source": [
    "ngramas = NGram(n = )"
   ]
  },
  {
   "cell_type": "code",
   "execution_count": 49,
   "metadata": {},
   "outputs": [
    {
     "name": "stdout",
     "output_type": "stream",
     "text": [
      "+-------+--------------------+---+--------------------+---+--------------------+\n",
      "|     _1|                  _2| _3|                  _4| _5|                  _6|\n",
      "+-------+--------------------+---+--------------------+---+--------------------+\n",
      "|cza1q49|-0.08299999684095383|171|[difference, aver...| 13|(23213,[36,50,68,...|\n",
      "|cza1wdh|-0.02199999988079071| 70|[myth, \"gap\", ent...|  7|(23213,[0,33,59,1...|\n",
      "|cza2bw8| -0.1459999978542328|115|[assertion, women...| 12|(23213,[4,36,56,2...|\n",
      "|cza2iji|-0.08299999684095383|160|[said, op, that's...| 15|(23213,[10,25,36,...|\n",
      "|cza31e2|-0.02099999971687...|476|[wage, gap, is,, ...| 41|(23213,[1,5,12,25...|\n",
      "|cza37ue|-0.17399999499320984| 62|[no,, point, talk...|  4|(23213,[61,167,31...|\n",
      "|cza392y| -0.2290000021457672| 40|[women, paid, les...|  4|(23213,[36,56,274...|\n",
      "|cza3m1b|                 0.0|377|[obviously, make,...| 35|(23213,[1,8,10,11...|\n",
      "|cza3r5u| 0.09799999743700027|249|[think, hollywood...| 24|(23213,[5,38,40,7...|\n",
      "|cza47sd|-0.08299999684095383|309|[think, many, peo...| 31|(23213,[1,5,12,26...|\n",
      "|cza47xu|-0.06199999898672104|685|[think, they're, ...| 69|(23213,[3,5,12,14...|\n",
      "|cza4d2a|-0.06199999898672104|279|[women, whole, le...| 27|(23213,[12,20,36,...|\n",
      "|cza4gsv|-0.02099999971687...|142|[gist, post, \"doe...| 12|(23213,[10,129,14...|\n",
      "|cza4ldq|-0.08299999684095383|501|[biological, diff...| 46|(23213,[13,22,93,...|\n",
      "|cza5maz|-0.18799999356269836|276|[difference, wnba...| 21|(23213,[54,56,66,...|\n",
      "|cza6q74| 0.08299999684095383|597|[fact, matter, is...| 56|(23213,[11,12,13,...|\n",
      "|cza6wrd|-0.10400000214576721|657|[well,, wife, qui...| 58|(23213,[10,12,18,...|\n",
      "|cza76eq| 0.18799999356269836|185|[women, spent, ye...| 20|(23213,[3,20,36,3...|\n",
      "|cza79u4| 0.17499999701976776|379|[also, mean, husb...| 38|(23213,[11,16,26,...|\n",
      "|cza7gpu|                 0.0|363|[believe, sociali...| 29|(23213,[0,2,36,64...|\n",
      "+-------+--------------------+---+--------------------+---+--------------------+\n",
      "only showing top 20 rows\n",
      "\n"
     ]
    }
   ],
   "source": [
    "# data.rdd.map(lambda x: (x[0],x[1],x[2],x[3],len(x[3]), x[4])).toDF()"
   ]
  }
 ],
 "metadata": {
  "kernelspec": {
   "display_name": "Python 3.7.4 64-bit",
   "language": "python",
   "name": "python3"
  },
  "language_info": {
   "codemirror_mode": {
    "name": "ipython",
    "version": 3
   },
   "file_extension": ".py",
   "mimetype": "text/x-python",
   "name": "python",
   "nbconvert_exporter": "python",
   "pygments_lexer": "ipython3",
   "version": "3.7.4"
  },
  "orig_nbformat": 4,
  "vscode": {
   "interpreter": {
    "hash": "6d128f9f649f5675aa9c03abef03d58b028ea46b9880149910e4a6a1e3e34976"
   }
  }
 },
 "nbformat": 4,
 "nbformat_minor": 2
}
