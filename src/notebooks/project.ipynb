{
 "cells": [
  {
   "attachments": {},
   "cell_type": "markdown",
   "metadata": {},
   "source": [
    "# **Proyecto de NLP, Spark y Redes Neuronales con Python**"
   ]
  },
  {
   "attachments": {},
   "cell_type": "markdown",
   "metadata": {},
   "source": [
    "-------"
   ]
  },
  {
   "attachments": {},
   "cell_type": "markdown",
   "metadata": {},
   "source": [
    "## Importación de librerías, inicio de sesión en Spark y lectura de los datos."
   ]
  },
  {
   "cell_type": "code",
   "execution_count": 1,
   "metadata": {},
   "outputs": [],
   "source": [
    "import pyspark\n",
    "from pyspark.sql import SparkSession\n",
    "from pyspark.sql.functions import *\n",
    "from pyspark.sql.types import *\n",
    "from pyspark.ml.feature import StopWordsRemover, Tokenizer, CountVectorizer, NGram, VectorAssembler \n",
    "from pyspark.ml.regression import RandomForestRegressor\n",
    "from pyspark.ml.evaluation import RegressionEvaluator\n",
    "from nltk.corpus import stopwords\n",
    "import findspark\n",
    "import pickle"
   ]
  },
  {
   "cell_type": "code",
   "execution_count": 2,
   "metadata": {},
   "outputs": [],
   "source": [
    "findspark.init()\n",
    "spark = SparkSession.builder.appName(\"ProyectoNLPSpark\").getOrCreate()\n",
    "data = spark.read.csv('../data/ruddit_comments_score.csv', header=True, inferSchema=True, sep = \",\", multiLine=True)\n",
    "data = data.withColumnRenamed(\"comment_id\", \"ID\").withColumnRenamed(\"body\", \"Comentario\").withColumnRenamed(\"score\", \"Puntuacion\")"
   ]
  },
  {
   "attachments": {},
   "cell_type": "markdown",
   "metadata": {},
   "source": [
    "> ##### Estos son los datos con los que vamos a trabajar"
   ]
  },
  {
   "cell_type": "code",
   "execution_count": 3,
   "metadata": {},
   "outputs": [
    {
     "name": "stdout",
     "output_type": "stream",
     "text": [
      "+--------------------+--------------------+----------+\n",
      "|                  ID|          Comentario|Puntuacion|\n",
      "+--------------------+--------------------+----------+\n",
      "|             cza1q49|> The difference ...|    -0.083|\n",
      "|             cza1wdh|\"The myth is that...|    -0.022|\n",
      "|             cza23qx|           [deleted]|     0.167|\n",
      "|             cza2bw8|The assertion is ...|    -0.146|\n",
      "|             cza2iji|You said in the O...|    -0.083|\n",
      "|             cza2jj3|\">Men and women a...|      null|\n",
      "|Edit: Changed 70 ...|              -0.042|      null|\n",
      "|             cza31e2|> All the wage ga...|    -0.021|\n",
      "|             cza321d|           [deleted]|    -0.021|\n",
      "|             cza336e|           [deleted]|     0.208|\n",
      "|             cza34dq|           [deleted]|    -0.191|\n",
      "|             cza3500|           [deleted]|    -0.229|\n",
      "|             cza37ue|No, the point is ...|    -0.174|\n",
      "|             cza3802|           [deleted]|     0.021|\n",
      "|             cza392y|So women are paid...|    -0.229|\n",
      "|             cza3avu|           [deleted]|    -0.167|\n",
      "|             cza3cmh|           [deleted]|     0.188|\n",
      "|             cza3m1b|But obviously tha...|       0.0|\n",
      "|             cza3r5u|\"I think that Hol...|     0.098|\n",
      "|             cza3tqm|           [deleted]|    -0.064|\n",
      "+--------------------+--------------------+----------+\n",
      "only showing top 20 rows\n",
      "\n"
     ]
    }
   ],
   "source": [
    "data.show()"
   ]
  },
  {
   "cell_type": "code",
   "execution_count": 4,
   "metadata": {},
   "outputs": [
    {
     "name": "stdout",
     "output_type": "stream",
     "text": [
      "root\n",
      " |-- ID: string (nullable = true)\n",
      " |-- Comentario: string (nullable = true)\n",
      " |-- Puntuacion: string (nullable = true)\n",
      "\n"
     ]
    }
   ],
   "source": [
    "data.printSchema()"
   ]
  },
  {
   "attachments": {},
   "cell_type": "markdown",
   "metadata": {},
   "source": [
    "##### Limpieza y transformación y análisis de los datos"
   ]
  },
  {
   "cell_type": "code",
   "execution_count": 5,
   "metadata": {},
   "outputs": [
    {
     "name": "stdout",
     "output_type": "stream",
     "text": [
      "root\n",
      " |-- ID: string (nullable = true)\n",
      " |-- Comentario: string (nullable = true)\n",
      " |-- Puntuacion: float (nullable = true)\n",
      "\n"
     ]
    }
   ],
   "source": [
    "data = data.withColumn(\"Puntuacion\", data[\"Puntuacion\"].cast(\"float\"))\n",
    "data.printSchema()"
   ]
  },
  {
   "cell_type": "code",
   "execution_count": 6,
   "metadata": {},
   "outputs": [
    {
     "name": "stdout",
     "output_type": "stream",
     "text": [
      "+-------+--------------------+----------+\n",
      "|     ID|          Comentario|Puntuacion|\n",
      "+-------+--------------------+----------+\n",
      "|cza1q49|> The difference ...|    -0.083|\n",
      "|cza1wdh|\"The myth is that...|    -0.022|\n",
      "|cza2bw8|The assertion is ...|    -0.146|\n",
      "|cza2iji|You said in the O...|    -0.083|\n",
      "|cza31e2|> All the wage ga...|    -0.021|\n",
      "|cza37ue|No, the point is ...|    -0.174|\n",
      "|cza392y|So women are paid...|    -0.229|\n",
      "|cza3m1b|But obviously tha...|       0.0|\n",
      "|cza3r5u|\"I think that Hol...|     0.098|\n",
      "|cza47sd|\"> I don't think ...|    -0.083|\n",
      "|cza47xu|I don't think the...|    -0.062|\n",
      "|cza4d2a|> Women are a who...|    -0.062|\n",
      "|cza4gsv|\"The gist of my p...|    -0.021|\n",
      "|cza4ldq|Biological differ...|    -0.083|\n",
      "|cza5maz|> It's the differ...|    -0.188|\n",
      "|cza6q74|>The fact of the ...|     0.083|\n",
      "|cza6wrd|Well, if your wif...|    -0.104|\n",
      "|cza76eq|Women have not sp...|     0.188|\n",
      "|cza79u4|Doesn't it also m...|     0.175|\n",
      "|cza7gpu|So you do believe...|       0.0|\n",
      "+-------+--------------------+----------+\n",
      "only showing top 20 rows\n",
      "\n"
     ]
    }
   ],
   "source": [
    "data = data.dropna()\n",
    "data = data.filter(data[\"Comentario\"] != \"[deleted]\")\n",
    "data.show()"
   ]
  },
  {
   "cell_type": "code",
   "execution_count": 7,
   "metadata": {},
   "outputs": [
    {
     "data": {
      "text/plain": [
       "'\"The myth is that the \"\"gap\"\" is entirely based on the sex of the  person. \"'"
      ]
     },
     "execution_count": 7,
     "metadata": {},
     "output_type": "execute_result"
    }
   ],
   "source": [
    "data.collect()[1][1]"
   ]
  },
  {
   "cell_type": "code",
   "execution_count": 10,
   "metadata": {},
   "outputs": [
    {
     "name": "stdout",
     "output_type": "stream",
     "text": [
      "+-------+--------------------+--------------------+\n",
      "|     _1|                  _2|                  _3|\n",
      "+-------+--------------------+--------------------+\n",
      "|cza1q49|The difference in...|-0.08299999684095383|\n",
      "|cza1wdh|The myth is that ...|-0.02199999988079071|\n",
      "|cza2bw8|The assertion is ...| -0.1459999978542328|\n",
      "|cza2iji|You said in the O...|-0.08299999684095383|\n",
      "|cza31e2|All the wage gap ...|-0.02099999971687...|\n",
      "|cza37ue|No, the point is ...|-0.17399999499320984|\n",
      "|cza392y|So women are paid...| -0.2290000021457672|\n",
      "|cza3m1b|But obviously tha...|                 0.0|\n",
      "|cza3r5u|I think that Holl...| 0.09799999743700027|\n",
      "|cza47sd|I don't think man...|-0.08299999684095383|\n",
      "|cza47xu|I don't think the...|-0.06199999898672104|\n",
      "|cza4d2a|Women are a whole...|-0.06199999898672104|\n",
      "|cza4gsv|The gist of my po...|-0.02099999971687...|\n",
      "|cza4ldq|Biological differ...|-0.08299999684095383|\n",
      "|cza5maz|It's the differen...|-0.18799999356269836|\n",
      "|cza6q74|The fact of the m...| 0.08299999684095383|\n",
      "|cza6wrd|Well, if your wif...|-0.10400000214576721|\n",
      "|cza76eq|Women have not sp...| 0.18799999356269836|\n",
      "|cza79u4|Doesn't it also m...| 0.17499999701976776|\n",
      "|cza7gpu|So you do believe...|                 0.0|\n",
      "+-------+--------------------+--------------------+\n",
      "only showing top 20 rows\n",
      "\n"
     ]
    }
   ],
   "source": [
    "data = data.rdd.map(lambda x: (x[0],x[1][1:] if (x[1][0] == '\"') else x[1],x[2])).toDF()\n",
    "data = data.rdd.map(lambda x: (x[0],x[1][:-1] if (x[1][-1] == '\"') else x[1],x[2])).toDF()\n",
    "data = data.rdd.map(lambda x: (x[0],x[1][1:] if (x[1][0] == '>') else x[1],x[2])).toDF()\n",
    "data = data.rdd.map(lambda x: (x[0],x[1][1:] if (x[1][0] == ' ') else x[1],x[2])).toDF()\n",
    "data = data.rdd.map(lambda x: (x[0],x[1][:-1] if (x[1][-1] == ' ') else x[1],x[2])).toDF()\n",
    "data = data.rdd.map(lambda x: (x[0],x[1][:-1] if (x[1][-1] == '.') else x[1],x[2])).toDF()\n",
    "data = data.rdd.map(lambda x: (x[0],x[1].replace('\"\"', '\"'),x[2])).toDF()\n",
    "data = data.rdd.map(lambda x: (x[0],x[1].replace('\\n', ''),x[2])).toDF()\n",
    "data = data.rdd.map(lambda x: (x[0],x[1].replace('\\t', ''),x[2])).toDF()\n",
    "data.show()"
   ]
  },
  {
   "cell_type": "code",
   "execution_count": 11,
   "metadata": {},
   "outputs": [
    {
     "data": {
      "text/plain": [
       "'The myth is that the \"gap\" is entirely based on the sex of the  person'"
      ]
     },
     "execution_count": 11,
     "metadata": {},
     "output_type": "execute_result"
    }
   ],
   "source": [
    "data.collect()[1][1]"
   ]
  },
  {
   "cell_type": "code",
   "execution_count": 12,
   "metadata": {},
   "outputs": [],
   "source": [
    "data = data.withColumnRenamed(\"_1\", \"ID\").withColumnRenamed(\"_2\", \"Comentario\").withColumnRenamed(\"_3\", \"Puntuacion\")"
   ]
  },
  {
   "cell_type": "code",
   "execution_count": 13,
   "metadata": {},
   "outputs": [
    {
     "data": {
      "text/plain": [
       "5418"
      ]
     },
     "execution_count": 13,
     "metadata": {},
     "output_type": "execute_result"
    }
   ],
   "source": [
    "data.count()"
   ]
  },
  {
   "cell_type": "code",
   "execution_count": 14,
   "metadata": {},
   "outputs": [
    {
     "name": "stdout",
     "output_type": "stream",
     "text": [
      "+-------+--------------------+--------------------+\n",
      "|     ID|          Comentario|          Puntuacion|\n",
      "+-------+--------------------+--------------------+\n",
      "|cza1q49|The difference in...|-0.08299999684095383|\n",
      "|cza1wdh|The myth is that ...|-0.02199999988079071|\n",
      "|cza2bw8|The assertion is ...| -0.1459999978542328|\n",
      "|cza2iji|You said in the O...|-0.08299999684095383|\n",
      "|cza31e2|All the wage gap ...|-0.02099999971687...|\n",
      "|cza37ue|No, the point is ...|-0.17399999499320984|\n",
      "|cza392y|So women are paid...| -0.2290000021457672|\n",
      "|cza3m1b|But obviously tha...|                 0.0|\n",
      "|cza3r5u|I think that Holl...| 0.09799999743700027|\n",
      "|cza47sd|I don't think man...|-0.08299999684095383|\n",
      "|cza47xu|I don't think the...|-0.06199999898672104|\n",
      "|cza4d2a|Women are a whole...|-0.06199999898672104|\n",
      "|cza4gsv|The gist of my po...|-0.02099999971687...|\n",
      "|cza4ldq|Biological differ...|-0.08299999684095383|\n",
      "|cza5maz|It's the differen...|-0.18799999356269836|\n",
      "|cza6q74|The fact of the m...| 0.08299999684095383|\n",
      "|cza6wrd|Well, if your wif...|-0.10400000214576721|\n",
      "|cza76eq|Women have not sp...| 0.18799999356269836|\n",
      "|cza79u4|Doesn't it also m...| 0.17499999701976776|\n",
      "|cza7gpu|So you do believe...|                 0.0|\n",
      "+-------+--------------------+--------------------+\n",
      "only showing top 20 rows\n",
      "\n"
     ]
    }
   ],
   "source": [
    "data.show()"
   ]
  },
  {
   "cell_type": "code",
   "execution_count": 14,
   "metadata": {},
   "outputs": [],
   "source": [
    "data = data.withColumn(\"LongitudLetras\", length(data[\"Comentario\"]))"
   ]
  },
  {
   "cell_type": "code",
   "execution_count": 15,
   "metadata": {},
   "outputs": [
    {
     "data": {
      "text/plain": [
       "['i', 'me', 'my', 'myself', 'we', 'our', 'ours', 'ourselves', 'you', \"you're\"]"
      ]
     },
     "execution_count": 15,
     "metadata": {},
     "output_type": "execute_result"
    }
   ],
   "source": [
    "stopwords.words('english')[:10]"
   ]
  },
  {
   "cell_type": "code",
   "execution_count": 16,
   "metadata": {},
   "outputs": [],
   "source": [
    "data = Tokenizer(inputCol=\"Comentario\", outputCol=\"ComenToken\").transform(data).drop(\"Comentario\")"
   ]
  },
  {
   "cell_type": "code",
   "execution_count": 17,
   "metadata": {},
   "outputs": [],
   "source": [
    "data = StopWordsRemover(stopWords=stopwords.words('english'), inputCol=\"ComenToken\", outputCol=\"ComenTokenLimpio\").transform(data).drop(\"ComenToken\")"
   ]
  },
  {
   "cell_type": "code",
   "execution_count": 18,
   "metadata": {},
   "outputs": [],
   "source": [
    "data = CountVectorizer(inputCol=\"ComenTokenLimpio\", outputCol=\"ConteoPalabras\").fit(data).transform(data)"
   ]
  },
  {
   "cell_type": "code",
   "execution_count": 19,
   "metadata": {},
   "outputs": [
    {
     "name": "stdout",
     "output_type": "stream",
     "text": [
      "+-------+--------------------+--------------+--------------------+--------------------+\n",
      "|     ID|          Puntuacion|LongitudLetras|    ComenTokenLimpio|      ConteoPalabras|\n",
      "+-------+--------------------+--------------+--------------------+--------------------+\n",
      "|cza1q49|-0.08299999684095383|           171|[difference, aver...|(23209,[36,50,68,...|\n",
      "|cza1wdh|-0.02199999988079071|            70|[myth, \"gap\", ent...|(23209,[0,32,59,1...|\n",
      "|cza2bw8| -0.1459999978542328|           115|[assertion, women...|(23209,[4,36,56,2...|\n",
      "|cza2iji|-0.08299999684095383|           160|[said, op, that's...|(23209,[10,25,36,...|\n",
      "|cza31e2|-0.02099999971687...|           476|[wage, gap, is,, ...|(23209,[1,5,12,25...|\n",
      "|cza37ue|-0.17399999499320984|            62|[no,, point, talk...|(23209,[61,167,31...|\n",
      "|cza392y| -0.2290000021457672|            40|[women, paid, les...|(23209,[36,56,274...|\n",
      "|cza3m1b|                 0.0|           377|[obviously, make,...|(23209,[1,8,10,11...|\n",
      "|cza3r5u| 0.09799999743700027|           249|[think, hollywood...|(23209,[5,38,40,6...|\n",
      "|cza47sd|-0.08299999684095383|           309|[think, many, peo...|(23209,[1,5,12,26...|\n",
      "|cza47xu|-0.06199999898672104|           685|[think, they're, ...|(23209,[3,5,12,14...|\n",
      "|cza4d2a|-0.06199999898672104|           279|[women, whole, le...|(23209,[12,20,36,...|\n",
      "|cza4gsv|-0.02099999971687...|           142|[gist, post, \"doe...|(23209,[10,132,14...|\n",
      "|cza4ldq|-0.08299999684095383|           501|[biological, diff...|(23209,[13,22,93,...|\n",
      "|cza5maz|-0.18799999356269836|           276|[difference, wnba...|(23209,[54,56,66,...|\n",
      "|cza6q74| 0.08299999684095383|           597|[fact, matter, is...|(23209,[11,12,13,...|\n",
      "|cza6wrd|-0.10400000214576721|           657|[well,, wife, qui...|(23209,[10,12,18,...|\n",
      "|cza76eq| 0.18799999356269836|           185|[women, spent, ye...|(23209,[3,20,36,3...|\n",
      "|cza79u4| 0.17499999701976776|           379|[also, mean, husb...|(23209,[11,16,26,...|\n",
      "|cza7gpu|                 0.0|           363|[believe, sociali...|(23209,[0,2,36,64...|\n",
      "+-------+--------------------+--------------+--------------------+--------------------+\n",
      "only showing top 20 rows\n",
      "\n"
     ]
    }
   ],
   "source": [
    "data.show()"
   ]
  },
  {
   "cell_type": "code",
   "execution_count": 20,
   "metadata": {},
   "outputs": [
    {
     "name": "stdout",
     "output_type": "stream",
     "text": [
      "+------------------+-------------------+\n",
      "|   max(Puntuacion)|    min(Puntuacion)|\n",
      "+------------------+-------------------+\n",
      "|0.9789999723434448|-0.8889999985694885|\n",
      "+------------------+-------------------+\n",
      "\n"
     ]
    }
   ],
   "source": [
    "data.select([max(data[\"Puntuacion\"]), min(data[\"Puntuacion\"])]).show()"
   ]
  },
  {
   "cell_type": "code",
   "execution_count": 21,
   "metadata": {},
   "outputs": [
    {
     "name": "stdout",
     "output_type": "stream",
     "text": [
      "+-------------------+-------------------+\n",
      "|max(LongitudLetras)|min(LongitudLetras)|\n",
      "+-------------------+-------------------+\n",
      "|                913|                  9|\n",
      "+-------------------+-------------------+\n",
      "\n"
     ]
    }
   ],
   "source": [
    "data.select([max(data[\"LongitudLetras\"]), min(data[\"LongitudLetras\"])]).show()"
   ]
  },
  {
   "cell_type": "code",
   "execution_count": 22,
   "metadata": {},
   "outputs": [
    {
     "name": "stdout",
     "output_type": "stream",
     "text": [
      "+--------------------+\n",
      "|      ConteoPalabras|\n",
      "+--------------------+\n",
      "|(23209,[36,50,68,...|\n",
      "|(23209,[0,32,59,1...|\n",
      "|(23209,[4,36,56,2...|\n",
      "|(23209,[10,25,36,...|\n",
      "|(23209,[1,5,12,25...|\n",
      "|(23209,[61,167,31...|\n",
      "|(23209,[36,56,274...|\n",
      "|(23209,[1,8,10,11...|\n",
      "|(23209,[5,38,40,6...|\n",
      "|(23209,[1,5,12,26...|\n",
      "|(23209,[3,5,12,14...|\n",
      "|(23209,[12,20,36,...|\n",
      "|(23209,[10,132,14...|\n",
      "|(23209,[13,22,93,...|\n",
      "|(23209,[54,56,66,...|\n",
      "|(23209,[11,12,13,...|\n",
      "|(23209,[10,12,18,...|\n",
      "|(23209,[3,20,36,3...|\n",
      "|(23209,[11,16,26,...|\n",
      "|(23209,[0,2,36,64...|\n",
      "+--------------------+\n",
      "only showing top 20 rows\n",
      "\n"
     ]
    }
   ],
   "source": [
    "data.select(\"ConteoPalabras\").show()"
   ]
  },
  {
   "cell_type": "code",
   "execution_count": 24,
   "metadata": {},
   "outputs": [],
   "source": [
    "data = NGram(n = 2, inputCol=\"ComenTokenLimpio\", outputCol=\"NGram\").transform(data)"
   ]
  },
  {
   "cell_type": "code",
   "execution_count": 25,
   "metadata": {},
   "outputs": [],
   "source": [
    "data = CountVectorizer(inputCol=\"NGram\", outputCol=\"ConteoNGram\").fit(data).transform(data)"
   ]
  },
  {
   "cell_type": "code",
   "execution_count": 26,
   "metadata": {},
   "outputs": [
    {
     "name": "stdout",
     "output_type": "stream",
     "text": [
      "+-------+--------------------+--------------+--------------------+--------------------+--------------------+--------------------+\n",
      "|     ID|          Puntuacion|LongitudLetras|    ComenTokenLimpio|      ConteoPalabras|               NGram|         ConteoNGram|\n",
      "+-------+--------------------+--------------+--------------------+--------------------+--------------------+--------------------+\n",
      "|cza1q49|-0.08299999684095383|           171|[difference, aver...|(23209,[36,50,68,...|[difference avera...|(82420,[98,3321,7...|\n",
      "|cza1wdh|-0.02199999988079071|            70|[myth, \"gap\", ent...|(23209,[0,32,59,1...|[myth \"gap\", \"gap...|(82420,[1006,1118...|\n",
      "|cza2bw8| -0.1459999978542328|           115|[assertion, women...|(23209,[4,36,56,2...|[assertion women,...|(82420,[126,721,4...|\n",
      "|cza2iji|-0.08299999684095383|           160|[said, op, that's...|(23209,[10,25,36,...|[said op, op that...|(82420,[3084,3856...|\n",
      "|cza31e2|-0.02099999971687...|           476|[wage, gap, is,, ...|(23209,[1,5,12,25...|[wage gap, gap is...|(82420,[30,91,281...|\n",
      "|cza37ue|-0.17399999499320984|            62|[no,, point, talk...|(23209,[61,167,31...|[no, point, point...|(82420,[6003,3742...|\n",
      "|cza392y| -0.2290000021457672|            40|[women, paid, les...|(23209,[36,56,274...|[women paid, paid...|(82420,[721,46993...|\n",
      "|cza3m1b|                 0.0|           377|[obviously, make,...|(23209,[1,8,10,11...|[obviously make, ...|(82420,[98,192,31...|\n",
      "|cza3r5u| 0.09799999743700027|           249|[think, hollywood...|(23209,[5,38,40,6...|[think hollywood,...|(82420,[1596,2930...|\n",
      "|cza47sd|-0.08299999684095383|           309|[think, many, peo...|(23209,[1,5,12,26...|[think many, many...|(82420,[6,14,143,...|\n",
      "|cza47xu|-0.06199999898672104|           685|[think, they're, ...|(23209,[3,5,12,14...|[think they're, t...|(82420,[91,1277,1...|\n",
      "|cza4d2a|-0.06199999898672104|           279|[women, whole, le...|(23209,[12,20,36,...|[women whole, who...|(82420,[2099,3141...|\n",
      "|cza4gsv|-0.02099999971687...|           142|[gist, post, \"doe...|(23209,[10,132,14...|[gist post, post ...|(82420,[61,5736,9...|\n",
      "|cza4ldq|-0.08299999684095383|           501|[biological, diff...|(23209,[13,22,93,...|[biological diffe...|(82420,[2164,2584...|\n",
      "|cza5maz|-0.18799999356269836|           276|[difference, wnba...|(23209,[54,56,66,...|[difference wnba,...|(82420,[118,3924,...|\n",
      "|cza6q74| 0.08299999684095383|           597|[fact, matter, is...|(23209,[11,12,13,...|[fact matter, mat...|(82420,[709,1120,...|\n",
      "|cza6wrd|-0.10400000214576721|           657|[well,, wife, qui...|(23209,[10,12,18,...|[well, wife, wife...|(82420,[172,219,3...|\n",
      "|cza76eq| 0.18799999356269836|           185|[women, spent, ye...|(23209,[3,20,36,3...|[women spent, spe...|(82420,[537,1340,...|\n",
      "|cza79u4| 0.17499999701976776|           379|[also, mean, husb...|(23209,[11,16,26,...|[also mean, mean ...|(82420,[219,232,9...|\n",
      "|cza7gpu|                 0.0|           363|[believe, sociali...|(23209,[0,2,36,64...|[believe socializ...|(82420,[3,281,332...|\n",
      "+-------+--------------------+--------------+--------------------+--------------------+--------------------+--------------------+\n",
      "only showing top 20 rows\n",
      "\n"
     ]
    }
   ],
   "source": [
    "data.show()"
   ]
  },
  {
   "cell_type": "code",
   "execution_count": 27,
   "metadata": {},
   "outputs": [],
   "source": [
    "feature_assembler = VectorAssembler(inputCols=[\"LongitudLetras\", \"ConteoPalabras\"], outputCol=\"CaracteristicasIndependientes\")"
   ]
  },
  {
   "cell_type": "code",
   "execution_count": 28,
   "metadata": {},
   "outputs": [],
   "source": [
    "output = feature_assembler.transform(data)"
   ]
  },
  {
   "cell_type": "code",
   "execution_count": 29,
   "metadata": {},
   "outputs": [],
   "source": [
    "FinalData = output.select(\"Puntuacion\",\"CaracteristicasIndependientes\")"
   ]
  },
  {
   "cell_type": "code",
   "execution_count": 30,
   "metadata": {},
   "outputs": [
    {
     "name": "stdout",
     "output_type": "stream",
     "text": [
      "+--------------------+-----------------------------+\n",
      "|          Puntuacion|CaracteristicasIndependientes|\n",
      "+--------------------+-----------------------------+\n",
      "|-0.08299999684095383|         (23210,[0,37,51,6...|\n",
      "|-0.02199999988079071|         (23210,[0,1,33,60...|\n",
      "| -0.1459999978542328|         (23210,[0,5,37,57...|\n",
      "|-0.08299999684095383|         (23210,[0,11,26,3...|\n",
      "|-0.02099999971687...|         (23210,[0,2,6,13,...|\n",
      "|-0.17399999499320984|         (23210,[0,62,168,...|\n",
      "| -0.2290000021457672|         (23210,[0,37,57,2...|\n",
      "|                 0.0|         (23210,[0,2,9,11,...|\n",
      "| 0.09799999743700027|         (23210,[0,6,39,41...|\n",
      "|-0.08299999684095383|         (23210,[0,2,6,13,...|\n",
      "|-0.06199999898672104|         (23210,[0,4,6,13,...|\n",
      "|-0.06199999898672104|         (23210,[0,13,21,3...|\n",
      "|-0.02099999971687...|         (23210,[0,11,133,...|\n",
      "|-0.08299999684095383|         (23210,[0,14,23,9...|\n",
      "|-0.18799999356269836|         (23210,[0,55,57,6...|\n",
      "| 0.08299999684095383|         (23210,[0,12,13,1...|\n",
      "|-0.10400000214576721|         (23210,[0,11,13,1...|\n",
      "| 0.18799999356269836|         (23210,[0,4,21,37...|\n",
      "| 0.17499999701976776|         (23210,[0,12,17,2...|\n",
      "|                 0.0|         (23210,[0,1,3,37,...|\n",
      "+--------------------+-----------------------------+\n",
      "only showing top 20 rows\n",
      "\n"
     ]
    }
   ],
   "source": [
    "FinalData.show()"
   ]
  },
  {
   "attachments": {},
   "cell_type": "markdown",
   "metadata": {},
   "source": [
    "## Creación del modelo y predicción de datos"
   ]
  },
  {
   "cell_type": "code",
   "execution_count": 31,
   "metadata": {},
   "outputs": [],
   "source": [
    "train, test = FinalData.randomSplit([0.75, 0.25])\n",
    "Model1 = RandomForestRegressor(featuresCol = \"CaracteristicasIndependientes\", labelCol=\"Puntuacion\")\n",
    "Model1 = Model1.fit(train)"
   ]
  },
  {
   "cell_type": "code",
   "execution_count": 34,
   "metadata": {},
   "outputs": [],
   "source": [
    "predicciones = Model1.transform(test)"
   ]
  },
  {
   "cell_type": "code",
   "execution_count": 35,
   "metadata": {},
   "outputs": [
    {
     "name": "stdout",
     "output_type": "stream",
     "text": [
      "RMSE: 0.263799\n",
      "MSE: 0.069590\n",
      "MAE: 0.208927\n",
      "r2: 0.370163\n"
     ]
    }
   ],
   "source": [
    "print(\"RMSE: %f\" % RegressionEvaluator(labelCol=\"Puntuacion\", predictionCol=\"prediction\", metricName=\"rmse\").evaluate(predicciones))\n",
    "print(\"MSE: %f\" % RegressionEvaluator(labelCol=\"Puntuacion\", predictionCol=\"prediction\", metricName=\"mse\").evaluate(predicciones))\n",
    "print(\"MAE: %f\" % RegressionEvaluator(labelCol=\"Puntuacion\", predictionCol=\"prediction\", metricName=\"mae\").evaluate(predicciones))\n",
    "print(\"r2: %f\" % RegressionEvaluator(labelCol=\"Puntuacion\", predictionCol=\"prediction\", metricName=\"r2\").evaluate(predicciones))"
   ]
  },
  {
   "cell_type": "code",
   "execution_count": 36,
   "metadata": {},
   "outputs": [
    {
     "name": "stdout",
     "output_type": "stream",
     "text": [
      "+-------+--------------------+\n",
      "|summary|          Puntuacion|\n",
      "+-------+--------------------+\n",
      "|  count|                5422|\n",
      "|   mean|-0.03671855389644512|\n",
      "| stddev|  0.3350070193314698|\n",
      "|    min| -0.8889999985694885|\n",
      "|    max|  0.9789999723434448|\n",
      "+-------+--------------------+\n",
      "\n"
     ]
    }
   ],
   "source": [
    "data.select(\"Puntuacion\").describe().show()"
   ]
  }
 ],
 "metadata": {
  "kernelspec": {
   "display_name": "Python 3.7.4 64-bit",
   "language": "python",
   "name": "python3"
  },
  "language_info": {
   "codemirror_mode": {
    "name": "ipython",
    "version": 3
   },
   "file_extension": ".py",
   "mimetype": "text/x-python",
   "name": "python",
   "nbconvert_exporter": "python",
   "pygments_lexer": "ipython3",
   "version": "3.7.4"
  },
  "orig_nbformat": 4,
  "vscode": {
   "interpreter": {
    "hash": "6d128f9f649f5675aa9c03abef03d58b028ea46b9880149910e4a6a1e3e34976"
   }
  }
 },
 "nbformat": 4,
 "nbformat_minor": 2
}
